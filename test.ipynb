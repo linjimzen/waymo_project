{
 "cells": [
  {
   "cell_type": "code",
   "execution_count": 6,
   "metadata": {},
   "outputs": [
    {
     "name": "stdout",
     "output_type": "stream",
     "text": [
      "Running on the GPU\n"
     ]
    }
   ],
   "source": [
    "import torch\n",
    "\n",
    "if torch.cuda.is_available():\n",
    "    device = torch.device(\"cuda:0\")  # you can continue going on here, like cuda:1 cuda:2....etc. \n",
    "    print(\"Running on the GPU\")\n",
    "else:\n",
    "    device = torch.device(\"cpu\")\n",
    "    print(\"Running on the CPU\")"
   ]
  },
  {
   "cell_type": "code",
   "execution_count": 7,
   "metadata": {},
   "outputs": [
    {
     "name": "stderr",
     "output_type": "stream",
     "text": [
      "Cloning into 'yolov5'...\n"
     ]
    }
   ],
   "source": [
    "# ! git clone https://github.com/ultralytics/yolov5"
   ]
  },
  {
   "cell_type": "code",
   "execution_count": null,
   "metadata": {},
   "outputs": [],
   "source": [
    "# python train.py --img-size 640 --batch 16 --epochs 50 --data test.yaml --weights yolov5s.pt --name SGD "
   ]
  },
  {
   "cell_type": "code",
   "execution_count": null,
   "metadata": {},
   "outputs": [],
   "source": [
    "#python detect.py --weight runs/train/exp3/weights/best.pt --source test.jpg --iou-thres 0.45 --conf-thres 0.8"
   ]
  },
  {
   "cell_type": "code",
   "execution_count": null,
   "metadata": {},
   "outputs": [],
   "source": [
    "#python val.py --weights runs\\train\\add_darkimg\\weights\\best.pt --data test.yaml --img 640"
   ]
  },
  {
   "cell_type": "code",
   "execution_count": 4,
   "metadata": {},
   "outputs": [
    {
     "name": "stdout",
     "output_type": "stream",
     "text": [
      "{'1': 31810, '2': 11461, '4': 237}\n"
     ]
    }
   ],
   "source": [
    "import os\n",
    "\n",
    "def count_first_column_in_file(filename):\n",
    "    counts = {}\n",
    "    with open(filename, 'r') as file:\n",
    "        for line in file:\n",
    "            values = line.strip().split()\n",
    "            first_column_value = values[0]\n",
    "            if first_column_value in counts:\n",
    "                counts[first_column_value] += 1\n",
    "            else:\n",
    "                counts[first_column_value] = 1\n",
    "    return counts\n",
    "\n",
    "def count_first_column_in_files(directory):\n",
    "    overall_counts = {}\n",
    "    for filename in os.listdir(directory):\n",
    "        if filename.endswith('.txt'):\n",
    "            file_path = os.path.join(directory, filename)\n",
    "            file_counts = count_first_column_in_file(file_path)\n",
    "            \n",
    "            for key, value in file_counts.items():\n",
    "                if key in overall_counts:\n",
    "                    overall_counts[key] += value\n",
    "                else:\n",
    "                    overall_counts[key] = value\n",
    "    return overall_counts\n",
    "\n",
    "# 目录名\n",
    "directory = 'dataset\\\\waymo\\\\labels\\\\train'\n",
    "\n",
    "# 调用函数并打印结果\n",
    "overall_counts = count_first_column_in_files(directory)\n",
    "print(overall_counts)\n"
   ]
  },
  {
   "cell_type": "code",
   "execution_count": 22,
   "metadata": {},
   "outputs": [],
   "source": [
    "import os\n",
    "\n",
    "def rename_files_with_number(directory, n):\n",
    "    # 獲取資料夾內的所有檔案\n",
    "    files = os.listdir(directory)\n",
    "    # 排序檔案名稱以確保數字是連續的\n",
    "    files.sort()\n",
    "\n",
    "    # 遍歷每個檔案並重新命名\n",
    "    for filename in files:\n",
    "        # 生成新的檔案名稱\n",
    "        new_name = f\"{n}_{filename}\"\n",
    "        # 獲取檔案的完整路徑\n",
    "        old_path = os.path.join(directory, filename)\n",
    "        new_path = os.path.join(directory, new_name)\n",
    "        # 重命名檔案\n",
    "        os.rename(old_path, new_path)\n",
    "\n",
    "# 指定目標資料夾和 n\n",
    "directory = 'image_4'\n",
    "n = 4  # 指定你想要的數字\n",
    "rename_files_with_number(directory, n)\n"
   ]
  }
 ],
 "metadata": {
  "kernelspec": {
   "display_name": "Aicar",
   "language": "python",
   "name": "python3"
  },
  "language_info": {
   "codemirror_mode": {
    "name": "ipython",
    "version": 3
   },
   "file_extension": ".py",
   "mimetype": "text/x-python",
   "name": "python",
   "nbconvert_exporter": "python",
   "pygments_lexer": "ipython3",
   "version": "3.11.9"
  }
 },
 "nbformat": 4,
 "nbformat_minor": 2
}
