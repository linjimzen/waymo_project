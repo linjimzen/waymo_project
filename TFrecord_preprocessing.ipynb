{
  "cells": [
    {
      "cell_type": "markdown",
      "metadata": {
        "id": "view-in-github",
        "colab_type": "text"
      },
      "source": [
        "<a href=\"https://colab.research.google.com/github/linjimzen/waymo_project/blob/main/TFrecord_preprocessing.ipynb\" target=\"_parent\"><img src=\"https://colab.research.google.com/assets/colab-badge.svg\" alt=\"Open In Colab\"/></a>"
      ]
    },
    {
      "cell_type": "markdown",
      "metadata": {
        "id": "Hm18ZfRL8zYD"
      },
      "source": [
        "### 導入lib"
      ]
    },
    {
      "cell_type": "code",
      "execution_count": null,
      "metadata": {
        "colab": {
          "base_uri": "https://localhost:8080/"
        },
        "id": "rJuh-bQG2n6S",
        "outputId": "a8848810-5a19-46fd-8775-4f6b94e189cc"
      },
      "outputs": [
        {
          "output_type": "stream",
          "name": "stdout",
          "text": [
            "Mounted at /content/drive\n"
          ]
        }
      ],
      "source": [
        "from google.colab import drive\n",
        "drive.mount('/content/drive')"
      ]
    },
    {
      "cell_type": "code",
      "execution_count": null,
      "metadata": {
        "colab": {
          "base_uri": "https://localhost:8080/"
        },
        "id": "_Ezzbv3U1m4k",
        "outputId": "e8244825-47d4-4d1d-aa3e-88ac6de740ae"
      },
      "outputs": [
        {
          "output_type": "stream",
          "name": "stdout",
          "text": [
            "/content/drive/MyDrive/Colab Notebooks/aicar\n"
          ]
        }
      ],
      "source": [
        "%cd '/content/drive/MyDrive/Colab Notebooks/aicar'"
      ]
    },
    {
      "cell_type": "code",
      "source": [
        "!pip3 install waymo-open-dataset-tf-2-12-0==1.6.4\n",
        "!pip3 install Pillow==9.2.0"
      ],
      "metadata": {
        "id": "5GWf6W8ZCK5N",
        "colab": {
          "base_uri": "https://localhost:8080/"
        },
        "outputId": "cdbcb198-1048-46f4-e7c0-fa5613e676ee"
      },
      "execution_count": null,
      "outputs": [
        {
          "output_type": "stream",
          "name": "stdout",
          "text": [
            "Requirement already satisfied: waymo-open-dataset-tf-2-12-0==1.6.4 in /usr/local/lib/python3.10/dist-packages (1.6.4)\n",
            "Requirement already satisfied: absl-py==1.4.0 in /usr/local/lib/python3.10/dist-packages (from waymo-open-dataset-tf-2-12-0==1.6.4) (1.4.0)\n",
            "Requirement already satisfied: dask[dataframe]==2023.3.1 in /usr/local/lib/python3.10/dist-packages (from waymo-open-dataset-tf-2-12-0==1.6.4) (2023.3.1)\n",
            "Requirement already satisfied: einsum==0.3.0 in /usr/local/lib/python3.10/dist-packages (from waymo-open-dataset-tf-2-12-0==1.6.4) (0.3.0)\n",
            "Requirement already satisfied: google-auth==2.16.2 in /usr/local/lib/python3.10/dist-packages (from waymo-open-dataset-tf-2-12-0==1.6.4) (2.16.2)\n",
            "Requirement already satisfied: immutabledict==2.2.0 in /usr/local/lib/python3.10/dist-packages (from waymo-open-dataset-tf-2-12-0==1.6.4) (2.2.0)\n",
            "Requirement already satisfied: matplotlib==3.6.1 in /usr/local/lib/python3.10/dist-packages (from waymo-open-dataset-tf-2-12-0==1.6.4) (3.6.1)\n",
            "Requirement already satisfied: numpy==1.23 in /usr/local/lib/python3.10/dist-packages (from waymo-open-dataset-tf-2-12-0==1.6.4) (1.23.0)\n",
            "Requirement already satisfied: openexr==1.3.9 in /usr/local/lib/python3.10/dist-packages (from waymo-open-dataset-tf-2-12-0==1.6.4) (1.3.9)\n",
            "Requirement already satisfied: pandas==1.5.3 in /usr/local/lib/python3.10/dist-packages (from waymo-open-dataset-tf-2-12-0==1.6.4) (1.5.3)\n",
            "Requirement already satisfied: pillow==9.2.0 in /usr/local/lib/python3.10/dist-packages (from waymo-open-dataset-tf-2-12-0==1.6.4) (9.2.0)\n",
            "Requirement already satisfied: plotly==5.13.1 in /usr/local/lib/python3.10/dist-packages (from waymo-open-dataset-tf-2-12-0==1.6.4) (5.13.1)\n",
            "Requirement already satisfied: pyarrow==10.0.0 in /usr/local/lib/python3.10/dist-packages (from waymo-open-dataset-tf-2-12-0==1.6.4) (10.0.0)\n",
            "Requirement already satisfied: scikit-image==0.20.0 in /usr/local/lib/python3.10/dist-packages (from waymo-open-dataset-tf-2-12-0==1.6.4) (0.20.0)\n",
            "Requirement already satisfied: scikit-learn==1.2.2 in /usr/local/lib/python3.10/dist-packages (from waymo-open-dataset-tf-2-12-0==1.6.4) (1.2.2)\n",
            "Requirement already satisfied: setuptools==67.6.0 in /usr/local/lib/python3.10/dist-packages (from waymo-open-dataset-tf-2-12-0==1.6.4) (67.6.0)\n",
            "Requirement already satisfied: tensorflow==2.12 in /usr/local/lib/python3.10/dist-packages (from waymo-open-dataset-tf-2-12-0==1.6.4) (2.12.0)\n",
            "Requirement already satisfied: tensorflow_graphics==2021.12.3 in /usr/local/lib/python3.10/dist-packages (from waymo-open-dataset-tf-2-12-0==1.6.4) (2021.12.3)\n",
            "Requirement already satisfied: tensorflow_probability==0.19.0 in /usr/local/lib/python3.10/dist-packages (from waymo-open-dataset-tf-2-12-0==1.6.4) (0.19.0)\n",
            "Requirement already satisfied: visu3d==1.5.1 in /usr/local/lib/python3.10/dist-packages (from waymo-open-dataset-tf-2-12-0==1.6.4) (1.5.1)\n",
            "Requirement already satisfied: dacite==1.8.1 in /usr/local/lib/python3.10/dist-packages (from waymo-open-dataset-tf-2-12-0==1.6.4) (1.8.1)\n",
            "Requirement already satisfied: click>=7.0 in /usr/local/lib/python3.10/dist-packages (from dask[dataframe]==2023.3.1->waymo-open-dataset-tf-2-12-0==1.6.4) (8.1.7)\n",
            "Requirement already satisfied: cloudpickle>=1.1.1 in /usr/local/lib/python3.10/dist-packages (from dask[dataframe]==2023.3.1->waymo-open-dataset-tf-2-12-0==1.6.4) (2.2.1)\n",
            "Requirement already satisfied: fsspec>=0.6.0 in /usr/local/lib/python3.10/dist-packages (from dask[dataframe]==2023.3.1->waymo-open-dataset-tf-2-12-0==1.6.4) (2023.6.0)\n",
            "Requirement already satisfied: packaging>=20.0 in /usr/local/lib/python3.10/dist-packages (from dask[dataframe]==2023.3.1->waymo-open-dataset-tf-2-12-0==1.6.4) (24.0)\n",
            "Requirement already satisfied: partd>=1.2.0 in /usr/local/lib/python3.10/dist-packages (from dask[dataframe]==2023.3.1->waymo-open-dataset-tf-2-12-0==1.6.4) (1.4.2)\n",
            "Requirement already satisfied: pyyaml>=5.3.1 in /usr/local/lib/python3.10/dist-packages (from dask[dataframe]==2023.3.1->waymo-open-dataset-tf-2-12-0==1.6.4) (6.0.1)\n",
            "Requirement already satisfied: toolz>=0.8.2 in /usr/local/lib/python3.10/dist-packages (from dask[dataframe]==2023.3.1->waymo-open-dataset-tf-2-12-0==1.6.4) (0.12.1)\n",
            "Requirement already satisfied: cachetools<6.0,>=2.0.0 in /usr/local/lib/python3.10/dist-packages (from google-auth==2.16.2->waymo-open-dataset-tf-2-12-0==1.6.4) (5.3.3)\n",
            "Requirement already satisfied: pyasn1-modules>=0.2.1 in /usr/local/lib/python3.10/dist-packages (from google-auth==2.16.2->waymo-open-dataset-tf-2-12-0==1.6.4) (0.4.0)\n",
            "Requirement already satisfied: six>=1.9.0 in /usr/local/lib/python3.10/dist-packages (from google-auth==2.16.2->waymo-open-dataset-tf-2-12-0==1.6.4) (1.16.0)\n",
            "Requirement already satisfied: rsa<5,>=3.1.4 in /usr/local/lib/python3.10/dist-packages (from google-auth==2.16.2->waymo-open-dataset-tf-2-12-0==1.6.4) (4.9)\n",
            "Requirement already satisfied: contourpy>=1.0.1 in /usr/local/lib/python3.10/dist-packages (from matplotlib==3.6.1->waymo-open-dataset-tf-2-12-0==1.6.4) (1.2.1)\n",
            "Requirement already satisfied: cycler>=0.10 in /usr/local/lib/python3.10/dist-packages (from matplotlib==3.6.1->waymo-open-dataset-tf-2-12-0==1.6.4) (0.12.1)\n",
            "Requirement already satisfied: fonttools>=4.22.0 in /usr/local/lib/python3.10/dist-packages (from matplotlib==3.6.1->waymo-open-dataset-tf-2-12-0==1.6.4) (4.53.0)\n",
            "Requirement already satisfied: kiwisolver>=1.0.1 in /usr/local/lib/python3.10/dist-packages (from matplotlib==3.6.1->waymo-open-dataset-tf-2-12-0==1.6.4) (1.4.5)\n",
            "Requirement already satisfied: pyparsing>=2.2.1 in /usr/local/lib/python3.10/dist-packages (from matplotlib==3.6.1->waymo-open-dataset-tf-2-12-0==1.6.4) (3.1.2)\n",
            "Requirement already satisfied: python-dateutil>=2.7 in /usr/local/lib/python3.10/dist-packages (from matplotlib==3.6.1->waymo-open-dataset-tf-2-12-0==1.6.4) (2.8.2)\n",
            "Requirement already satisfied: pytz>=2020.1 in /usr/local/lib/python3.10/dist-packages (from pandas==1.5.3->waymo-open-dataset-tf-2-12-0==1.6.4) (2023.4)\n",
            "Requirement already satisfied: tenacity>=6.2.0 in /usr/local/lib/python3.10/dist-packages (from plotly==5.13.1->waymo-open-dataset-tf-2-12-0==1.6.4) (8.3.0)\n",
            "Requirement already satisfied: scipy>=1.8 in /usr/local/lib/python3.10/dist-packages (from scikit-image==0.20.0->waymo-open-dataset-tf-2-12-0==1.6.4) (1.11.4)\n",
            "Requirement already satisfied: networkx>=2.8 in /usr/local/lib/python3.10/dist-packages (from scikit-image==0.20.0->waymo-open-dataset-tf-2-12-0==1.6.4) (3.3)\n",
            "Requirement already satisfied: imageio>=2.4.1 in /usr/local/lib/python3.10/dist-packages (from scikit-image==0.20.0->waymo-open-dataset-tf-2-12-0==1.6.4) (2.31.6)\n",
            "Requirement already satisfied: tifffile>=2019.7.26 in /usr/local/lib/python3.10/dist-packages (from scikit-image==0.20.0->waymo-open-dataset-tf-2-12-0==1.6.4) (2024.5.22)\n",
            "Requirement already satisfied: PyWavelets>=1.1.1 in /usr/local/lib/python3.10/dist-packages (from scikit-image==0.20.0->waymo-open-dataset-tf-2-12-0==1.6.4) (1.6.0)\n",
            "Requirement already satisfied: lazy_loader>=0.1 in /usr/local/lib/python3.10/dist-packages (from scikit-image==0.20.0->waymo-open-dataset-tf-2-12-0==1.6.4) (0.4)\n",
            "Requirement already satisfied: joblib>=1.1.1 in /usr/local/lib/python3.10/dist-packages (from scikit-learn==1.2.2->waymo-open-dataset-tf-2-12-0==1.6.4) (1.4.2)\n",
            "Requirement already satisfied: threadpoolctl>=2.0.0 in /usr/local/lib/python3.10/dist-packages (from scikit-learn==1.2.2->waymo-open-dataset-tf-2-12-0==1.6.4) (3.5.0)\n",
            "Requirement already satisfied: astunparse>=1.6.0 in /usr/local/lib/python3.10/dist-packages (from tensorflow==2.12->waymo-open-dataset-tf-2-12-0==1.6.4) (1.6.3)\n",
            "Requirement already satisfied: flatbuffers>=2.0 in /usr/local/lib/python3.10/dist-packages (from tensorflow==2.12->waymo-open-dataset-tf-2-12-0==1.6.4) (24.3.25)\n",
            "Requirement already satisfied: gast<=0.4.0,>=0.2.1 in /usr/local/lib/python3.10/dist-packages (from tensorflow==2.12->waymo-open-dataset-tf-2-12-0==1.6.4) (0.4.0)\n",
            "Requirement already satisfied: google-pasta>=0.1.1 in /usr/local/lib/python3.10/dist-packages (from tensorflow==2.12->waymo-open-dataset-tf-2-12-0==1.6.4) (0.2.0)\n",
            "Requirement already satisfied: grpcio<2.0,>=1.24.3 in /usr/local/lib/python3.10/dist-packages (from tensorflow==2.12->waymo-open-dataset-tf-2-12-0==1.6.4) (1.64.1)\n",
            "Requirement already satisfied: h5py>=2.9.0 in /usr/local/lib/python3.10/dist-packages (from tensorflow==2.12->waymo-open-dataset-tf-2-12-0==1.6.4) (3.9.0)\n",
            "Requirement already satisfied: jax>=0.3.15 in /usr/local/lib/python3.10/dist-packages (from tensorflow==2.12->waymo-open-dataset-tf-2-12-0==1.6.4) (0.4.26)\n",
            "Requirement already satisfied: keras<2.13,>=2.12.0 in /usr/local/lib/python3.10/dist-packages (from tensorflow==2.12->waymo-open-dataset-tf-2-12-0==1.6.4) (2.12.0)\n",
            "Requirement already satisfied: libclang>=13.0.0 in /usr/local/lib/python3.10/dist-packages (from tensorflow==2.12->waymo-open-dataset-tf-2-12-0==1.6.4) (18.1.1)\n",
            "Requirement already satisfied: opt-einsum>=2.3.2 in /usr/local/lib/python3.10/dist-packages (from tensorflow==2.12->waymo-open-dataset-tf-2-12-0==1.6.4) (3.3.0)\n",
            "Requirement already satisfied: protobuf!=4.21.0,!=4.21.1,!=4.21.2,!=4.21.3,!=4.21.4,!=4.21.5,<5.0.0dev,>=3.20.3 in /usr/local/lib/python3.10/dist-packages (from tensorflow==2.12->waymo-open-dataset-tf-2-12-0==1.6.4) (3.20.3)\n",
            "Requirement already satisfied: tensorboard<2.13,>=2.12 in /usr/local/lib/python3.10/dist-packages (from tensorflow==2.12->waymo-open-dataset-tf-2-12-0==1.6.4) (2.12.3)\n",
            "Requirement already satisfied: tensorflow-estimator<2.13,>=2.12.0 in /usr/local/lib/python3.10/dist-packages (from tensorflow==2.12->waymo-open-dataset-tf-2-12-0==1.6.4) (2.12.0)\n",
            "Requirement already satisfied: termcolor>=1.1.0 in /usr/local/lib/python3.10/dist-packages (from tensorflow==2.12->waymo-open-dataset-tf-2-12-0==1.6.4) (2.4.0)\n",
            "Requirement already satisfied: typing-extensions>=3.6.6 in /usr/local/lib/python3.10/dist-packages (from tensorflow==2.12->waymo-open-dataset-tf-2-12-0==1.6.4) (4.12.1)\n",
            "Requirement already satisfied: wrapt<1.15,>=1.11.0 in /usr/local/lib/python3.10/dist-packages (from tensorflow==2.12->waymo-open-dataset-tf-2-12-0==1.6.4) (1.14.1)\n",
            "Requirement already satisfied: tensorflow-io-gcs-filesystem>=0.23.1 in /usr/local/lib/python3.10/dist-packages (from tensorflow==2.12->waymo-open-dataset-tf-2-12-0==1.6.4) (0.37.0)\n",
            "Requirement already satisfied: tensorflow-addons>=0.10.0 in /usr/local/lib/python3.10/dist-packages (from tensorflow_graphics==2021.12.3->waymo-open-dataset-tf-2-12-0==1.6.4) (0.23.0)\n",
            "Requirement already satisfied: tensorflow-datasets>=2.0.0 in /usr/local/lib/python3.10/dist-packages (from tensorflow_graphics==2021.12.3->waymo-open-dataset-tf-2-12-0==1.6.4) (4.9.5)\n",
            "Requirement already satisfied: psutil>=5.7.0 in /usr/local/lib/python3.10/dist-packages (from tensorflow_graphics==2021.12.3->waymo-open-dataset-tf-2-12-0==1.6.4) (5.9.5)\n",
            "Requirement already satisfied: tqdm>=4.45.0 in /usr/local/lib/python3.10/dist-packages (from tensorflow_graphics==2021.12.3->waymo-open-dataset-tf-2-12-0==1.6.4) (4.66.4)\n",
            "Requirement already satisfied: trimesh>=2.37.22 in /usr/local/lib/python3.10/dist-packages (from tensorflow_graphics==2021.12.3->waymo-open-dataset-tf-2-12-0==1.6.4) (4.4.1)\n",
            "Requirement already satisfied: decorator in /usr/local/lib/python3.10/dist-packages (from tensorflow_probability==0.19.0->waymo-open-dataset-tf-2-12-0==1.6.4) (4.4.2)\n",
            "Requirement already satisfied: dm-tree in /usr/local/lib/python3.10/dist-packages (from tensorflow_probability==0.19.0->waymo-open-dataset-tf-2-12-0==1.6.4) (0.1.8)\n",
            "Requirement already satisfied: dataclass_array in /usr/local/lib/python3.10/dist-packages (from visu3d==1.5.1->waymo-open-dataset-tf-2-12-0==1.6.4) (1.5.1)\n",
            "Requirement already satisfied: einops in /usr/local/lib/python3.10/dist-packages (from visu3d==1.5.1->waymo-open-dataset-tf-2-12-0==1.6.4) (0.8.0)\n",
            "Requirement already satisfied: etils[edc,enp,epath,epy,etree] in /usr/local/lib/python3.10/dist-packages (from visu3d==1.5.1->waymo-open-dataset-tf-2-12-0==1.6.4) (1.7.0)\n",
            "Requirement already satisfied: wheel<1.0,>=0.23.0 in /usr/local/lib/python3.10/dist-packages (from astunparse>=1.6.0->tensorflow==2.12->waymo-open-dataset-tf-2-12-0==1.6.4) (0.43.0)\n",
            "Requirement already satisfied: ml-dtypes>=0.2.0 in /usr/local/lib/python3.10/dist-packages (from jax>=0.3.15->tensorflow==2.12->waymo-open-dataset-tf-2-12-0==1.6.4) (0.2.0)\n",
            "Requirement already satisfied: locket in /usr/local/lib/python3.10/dist-packages (from partd>=1.2.0->dask[dataframe]==2023.3.1->waymo-open-dataset-tf-2-12-0==1.6.4) (1.0.0)\n",
            "Requirement already satisfied: pyasn1<0.7.0,>=0.4.6 in /usr/local/lib/python3.10/dist-packages (from pyasn1-modules>=0.2.1->google-auth==2.16.2->waymo-open-dataset-tf-2-12-0==1.6.4) (0.6.0)\n",
            "Requirement already satisfied: google-auth-oauthlib<1.1,>=0.5 in /usr/local/lib/python3.10/dist-packages (from tensorboard<2.13,>=2.12->tensorflow==2.12->waymo-open-dataset-tf-2-12-0==1.6.4) (1.0.0)\n",
            "Requirement already satisfied: markdown>=2.6.8 in /usr/local/lib/python3.10/dist-packages (from tensorboard<2.13,>=2.12->tensorflow==2.12->waymo-open-dataset-tf-2-12-0==1.6.4) (3.6)\n",
            "Requirement already satisfied: requests<3,>=2.21.0 in /usr/local/lib/python3.10/dist-packages (from tensorboard<2.13,>=2.12->tensorflow==2.12->waymo-open-dataset-tf-2-12-0==1.6.4) (2.31.0)\n",
            "Requirement already satisfied: tensorboard-data-server<0.8.0,>=0.7.0 in /usr/local/lib/python3.10/dist-packages (from tensorboard<2.13,>=2.12->tensorflow==2.12->waymo-open-dataset-tf-2-12-0==1.6.4) (0.7.2)\n",
            "Requirement already satisfied: werkzeug>=1.0.1 in /usr/local/lib/python3.10/dist-packages (from tensorboard<2.13,>=2.12->tensorflow==2.12->waymo-open-dataset-tf-2-12-0==1.6.4) (3.0.3)\n",
            "Requirement already satisfied: typeguard<3.0.0,>=2.7 in /usr/local/lib/python3.10/dist-packages (from tensorflow-addons>=0.10.0->tensorflow_graphics==2021.12.3->waymo-open-dataset-tf-2-12-0==1.6.4) (2.13.3)\n",
            "Requirement already satisfied: promise in /usr/local/lib/python3.10/dist-packages (from tensorflow-datasets>=2.0.0->tensorflow_graphics==2021.12.3->waymo-open-dataset-tf-2-12-0==1.6.4) (2.3)\n",
            "Requirement already satisfied: simple-parsing in /usr/local/lib/python3.10/dist-packages (from tensorflow-datasets>=2.0.0->tensorflow_graphics==2021.12.3->waymo-open-dataset-tf-2-12-0==1.6.4) (0.1.5)\n",
            "Requirement already satisfied: tensorflow-metadata in /usr/local/lib/python3.10/dist-packages (from tensorflow-datasets>=2.0.0->tensorflow_graphics==2021.12.3->waymo-open-dataset-tf-2-12-0==1.6.4) (1.15.0)\n",
            "Requirement already satisfied: toml in /usr/local/lib/python3.10/dist-packages (from tensorflow-datasets>=2.0.0->tensorflow_graphics==2021.12.3->waymo-open-dataset-tf-2-12-0==1.6.4) (0.10.2)\n",
            "Requirement already satisfied: array-record>=0.5.0 in /usr/local/lib/python3.10/dist-packages (from tensorflow-datasets>=2.0.0->tensorflow_graphics==2021.12.3->waymo-open-dataset-tf-2-12-0==1.6.4) (0.5.1)\n",
            "Requirement already satisfied: lark in /usr/local/lib/python3.10/dist-packages (from dataclass_array->visu3d==1.5.1->waymo-open-dataset-tf-2-12-0==1.6.4) (1.1.9)\n",
            "Requirement already satisfied: importlib_resources in /usr/local/lib/python3.10/dist-packages (from etils[edc,enp,epath,epy,etree]->visu3d==1.5.1->waymo-open-dataset-tf-2-12-0==1.6.4) (6.4.0)\n",
            "Requirement already satisfied: zipp in /usr/local/lib/python3.10/dist-packages (from etils[edc,enp,epath,epy,etree]->visu3d==1.5.1->waymo-open-dataset-tf-2-12-0==1.6.4) (3.19.1)\n",
            "Requirement already satisfied: requests-oauthlib>=0.7.0 in /usr/local/lib/python3.10/dist-packages (from google-auth-oauthlib<1.1,>=0.5->tensorboard<2.13,>=2.12->tensorflow==2.12->waymo-open-dataset-tf-2-12-0==1.6.4) (1.3.1)\n",
            "Requirement already satisfied: charset-normalizer<4,>=2 in /usr/local/lib/python3.10/dist-packages (from requests<3,>=2.21.0->tensorboard<2.13,>=2.12->tensorflow==2.12->waymo-open-dataset-tf-2-12-0==1.6.4) (3.3.2)\n",
            "Requirement already satisfied: idna<4,>=2.5 in /usr/local/lib/python3.10/dist-packages (from requests<3,>=2.21.0->tensorboard<2.13,>=2.12->tensorflow==2.12->waymo-open-dataset-tf-2-12-0==1.6.4) (3.7)\n",
            "Requirement already satisfied: urllib3<3,>=1.21.1 in /usr/local/lib/python3.10/dist-packages (from requests<3,>=2.21.0->tensorboard<2.13,>=2.12->tensorflow==2.12->waymo-open-dataset-tf-2-12-0==1.6.4) (2.0.7)\n",
            "Requirement already satisfied: certifi>=2017.4.17 in /usr/local/lib/python3.10/dist-packages (from requests<3,>=2.21.0->tensorboard<2.13,>=2.12->tensorflow==2.12->waymo-open-dataset-tf-2-12-0==1.6.4) (2024.6.2)\n",
            "Requirement already satisfied: MarkupSafe>=2.1.1 in /usr/local/lib/python3.10/dist-packages (from werkzeug>=1.0.1->tensorboard<2.13,>=2.12->tensorflow==2.12->waymo-open-dataset-tf-2-12-0==1.6.4) (2.1.5)\n",
            "Requirement already satisfied: docstring-parser~=0.15 in /usr/local/lib/python3.10/dist-packages (from simple-parsing->tensorflow-datasets>=2.0.0->tensorflow_graphics==2021.12.3->waymo-open-dataset-tf-2-12-0==1.6.4) (0.16)\n",
            "Requirement already satisfied: oauthlib>=3.0.0 in /usr/local/lib/python3.10/dist-packages (from requests-oauthlib>=0.7.0->google-auth-oauthlib<1.1,>=0.5->tensorboard<2.13,>=2.12->tensorflow==2.12->waymo-open-dataset-tf-2-12-0==1.6.4) (3.2.2)\n",
            "Requirement already satisfied: Pillow==9.2.0 in /usr/local/lib/python3.10/dist-packages (9.2.0)\n"
          ]
        }
      ]
    },
    {
      "cell_type": "code",
      "source": [
        "import os\n",
        "import cv2\n",
        "import numpy as np\n",
        "import matplotlib.pyplot as plt\n",
        "import tensorflow.compat.v1 as tf\n",
        "from waymo_open_dataset import dataset_pb2 as open_dataset"
      ],
      "metadata": {
        "id": "QwKY1_FUB38N"
      },
      "execution_count": null,
      "outputs": []
    },
    {
      "cell_type": "code",
      "source": [
        "'''\n",
        "def get_path(types = 'train'):\n",
        "    FILE_LIST = []\n",
        "    # TODO : change path for yourself\n",
        "    #DATA_PATH = './' + types\n",
        "    DATA_PATH = types\n",
        "    for record in os.listdir(DATA_PATH):\n",
        "        if record.split('.')[0] == 'tfrecord':\n",
        "            FILE_LIST.append(DATA_PATH + '/' + record)\n",
        "\n",
        "    return FILE_LIST\n",
        "'''"
      ],
      "metadata": {
        "id": "MuZZpR3GCNt3",
        "colab": {
          "base_uri": "https://localhost:8080/",
          "height": 53
        },
        "outputId": "8bd3a363-d9ed-4bae-8183-0b6ead644131"
      },
      "execution_count": null,
      "outputs": [
        {
          "output_type": "execute_result",
          "data": {
            "text/plain": [
              "\"\\ndef get_path(types = 'train'):\\n    FILE_LIST = []\\n    # TODO : change path for yourself\\n    #DATA_PATH = './' + types\\n    DATA_PATH = types\\n    for record in os.listdir(DATA_PATH):\\n        if record.split('.')[0] == 'tfrecord':\\n            FILE_LIST.append(DATA_PATH + '/' + record)\\n\\n    return FILE_LIST\\n\""
            ],
            "application/vnd.google.colaboratory.intrinsic+json": {
              "type": "string"
            }
          },
          "metadata": {},
          "execution_count": 5
        }
      ]
    },
    {
      "cell_type": "markdown",
      "source": [
        "/content/drive/MyDrive/Colab Notebooks/aicar/tfrecord/train/training_segment-10017090168044687777_6380_000_6400_000_with_camera_labels.tfrecord"
      ],
      "metadata": {
        "id": "YCBAqyEzFLks"
      }
    },
    {
      "cell_type": "code",
      "source": [
        "path = './tfrecord/test_2'\n",
        "for filename in os.listdir(path):\n",
        "  print(filename)\n"
      ],
      "metadata": {
        "colab": {
          "base_uri": "https://localhost:8080/"
        },
        "id": "S6GkslpWHtF4",
        "outputId": "48b4e290-267a-456f-f529-8944a49d7c12"
      },
      "execution_count": null,
      "outputs": [
        {
          "output_type": "stream",
          "name": "stdout",
          "text": [
            "training_segment-10584247114982259878_490_000_510_000_with_camera_labels.tfrecord\n"
          ]
        }
      ]
    },
    {
      "cell_type": "code",
      "source": [
        "# TODO : change path for yourself\n",
        "RAWDATA_PATH = './tfrecord/test_2'\n",
        "IMAGE_PATH = './dataset/test2/images/'\n",
        "LABEL_PATH = './dataset/test2/labels/'\n",
        "def preprocessing(RAWDATA_PATH):\n",
        "    img_counter = 3000\n",
        "    zero_filled = 6 # 命名時補0的數量上限\n",
        "    round_limit = 4\n",
        "    classes_count = [0,0,0] # 紀錄車子,行人,自行車騎士的數量\n",
        "    mapping = { 1:0, 2:1, 4:2, 3:3, 5:4} # image name與frame.camera_labels順序之間的對應 (3 4 相反)\n",
        "    for FILENAME in os.listdir(RAWDATA_PATH):\n",
        "        print(f\"====================================\\n\\n NOW is {FILENAME} \\n\\n====================================\")\n",
        "        dataset = tf.data.TFRecordDataset(RAWDATA_PATH+'/'+FILENAME, compression_type='')\n",
        "        # 取出每一幀的數據\n",
        "        for data in dataset:\n",
        "            frame = open_dataset.Frame()\n",
        "            frame.ParseFromString(bytearray(data.numpy()))\n",
        "            # 將每個camera的image存成jpg檔 每幀共包含5個 camera\n",
        "            for image in frame.images:\n",
        "                # 沒有任何label則不儲存，直接下一個image\n",
        "\n",
        "                if not frame.camera_labels[mapping[image.name]].labels:\n",
        "                    continue\n",
        "\n",
        "                # Part 1 :儲存圖片\n",
        "                save_PATH = IMAGE_PATH + 'id_' + str(image.name) + 'number_' + str(img_counter).zfill(zero_filled) + '.jpg'\n",
        "                # 從 bytes格式轉為 uint8格式，再解碼成圖片格式 BGR\n",
        "                img = cv2.imdecode(np.frombuffer(image.image, np.uint8), cv2.IMREAD_COLOR)\n",
        "                # (BGR -> RGB)\n",
        "                cv2.imwrite(save_PATH, img)\n",
        "\n",
        "                # Part 2 :儲存label\n",
        "                save_PATH2 = LABEL_PATH + 'id_' + str(image.name) + 'number_' + str(img_counter).zfill(zero_filled) + '.txt'\n",
        "                # camera的長寬 用來做 normalization\n",
        "                camera_width = frame.context.camera_calibrations[image.name-1].width\n",
        "                camera_height = frame.context.camera_calibrations[image.name-1].height\n",
        "                # 取得每個Label的 information\n",
        "                information = frame.camera_labels[mapping[image.name]].labels\n",
        "\n",
        "                file = open(save_PATH2, 'w+')\n",
        "                # 儲存每個object的bounding box資訊 (class_id, x_center, y_center, width, height), 需要Normalize至[0,1]\n",
        "                for objects in information:\n",
        "                    bbox = objects.box\n",
        "                    class_id = objects.type\n",
        "                    classes_count[objects.type//2] += 1 # vehicle:1, pedestrian:2, cyclist:4 # unknown:0 signs:3\n",
        "                    x = round(bbox.center_x/camera_width, round_limit)\n",
        "                    y = round(bbox.center_y/camera_height, round_limit)\n",
        "                    # 這邊的length對應到的是 width , width對應到 height\n",
        "                    width = round(bbox.length/camera_width, round_limit)\n",
        "                    height = round(bbox.width/camera_height, round_limit)\n",
        "                    file.write(f'{class_id} {x} {y} {width} {height}\\n')\n",
        "                file.close()\n",
        "                img_counter += 1\n",
        "    print(f'Vehicle : {classes_count[0]}')\n",
        "    print(f'Pedestrian : {classes_count[1]}')\n",
        "    print(f'Cyclist : {classes_count[2]}')\n",
        "    print(f'img_counter : {img_counter-1}')"
      ],
      "metadata": {
        "id": "JKmy1X-RHflP"
      },
      "execution_count": null,
      "outputs": []
    },
    {
      "cell_type": "code",
      "source": [
        "preprocessing(RAWDATA_PATH)"
      ],
      "metadata": {
        "colab": {
          "base_uri": "https://localhost:8080/"
        },
        "id": "bVtf2ZVNI7jB",
        "outputId": "dd312499-43b6-49fa-fff3-07b5bd258409"
      },
      "execution_count": null,
      "outputs": [
        {
          "output_type": "stream",
          "name": "stdout",
          "text": [
            "====================================\n",
            "\n",
            " NOW is training_segment-10584247114982259878_490_000_510_000_with_camera_labels.tfrecord \n",
            "\n",
            "====================================\n",
            "Vehicle : 4249\n",
            "Pedestrian : 96\n",
            "Cyclist : 0\n",
            "img_counter : 3623\n"
          ]
        }
      ]
    },
    {
      "cell_type": "markdown",
      "source": [
        "# 照片轉影片"
      ],
      "metadata": {
        "id": "9OUW5E2E6t8M"
      }
    },
    {
      "cell_type": "code",
      "source": [
        "from pathlib import Path\n",
        "import tqdm\n",
        "import cv2\n",
        "\n",
        "def set_camera(filename: str, width: int, height: int,\n",
        "               fps: float = 30.0, fourcc: str = 'mp4v') -> cv2.VideoWriter:\n",
        "    return cv2.VideoWriter(\n",
        "        filename,\n",
        "        fourcc=cv2.VideoWriter_fourcc(*fourcc),\n",
        "        fps=fps,\n",
        "        frameSize=(width, height)\n",
        "    )"
      ],
      "metadata": {
        "id": "nPf3Sq0e6LhG"
      },
      "execution_count": null,
      "outputs": []
    },
    {
      "cell_type": "code",
      "source": [
        "batch_images = sorted(Path('/content/drive/MyDrive/Colab Notebooks/aicar/dataset/pic2mov').glob('*.jpg'))\n",
        "video_output_path = 'video2.mp4'\n",
        "\n",
        "camera = None\n",
        "for ip in tqdm.tqdm(batch_images):\n",
        "    frame = cv2.imread(ip.as_posix())\n",
        "\n",
        "    # process ...\n",
        "\n",
        "    if camera is None:\n",
        "        h, w, _ = frame.shape\n",
        "        camera = set_camera(video_output_path, w, h)\n",
        "    camera.write(frame)\n",
        "camera.release()"
      ],
      "metadata": {
        "colab": {
          "base_uri": "https://localhost:8080/"
        },
        "id": "29edMXaq6lXk",
        "outputId": "e5d0c8a4-e02f-47d6-b8e2-c294589657bc"
      },
      "execution_count": null,
      "outputs": [
        {
          "output_type": "stream",
          "name": "stderr",
          "text": [
            "100%|██████████| 232/232 [00:17<00:00, 13.01it/s]\n"
          ]
        }
      ]
    }
  ],
  "metadata": {
    "colab": {
      "provenance": [],
      "authorship_tag": "ABX9TyNdKAQVh6GIFEyd6BLz8Ran",
      "include_colab_link": true
    },
    "kernelspec": {
      "display_name": "Python 3",
      "name": "python3"
    },
    "language_info": {
      "name": "python"
    }
  },
  "nbformat": 4,
  "nbformat_minor": 0
}